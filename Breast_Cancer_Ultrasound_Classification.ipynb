{
  "cells": [
    {
      "cell_type": "code",
      "execution_count": null,
      "metadata": {
        "colab": {
          "base_uri": "https://localhost:8080/"
        },
        "id": "IybnMzHIXrUL",
        "outputId": "e4eb046b-1544-4faa-9f83-837011922bdc"
      },
      "outputs": [
        {
          "output_type": "stream",
          "name": "stdout",
          "text": [
            "Looking in indexes: https://pypi.org/simple, https://us-python.pkg.dev/colab-wheels/public/simple/\n",
            "Requirement already satisfied: keras-resnet==0.2.0 in /usr/local/lib/python3.10/dist-packages (0.2.0)\n",
            "Requirement already satisfied: keras>=2.2.4 in /usr/local/lib/python3.10/dist-packages (from keras-resnet==0.2.0) (2.12.0)\n",
            "Looking in indexes: https://pypi.org/simple, https://us-python.pkg.dev/colab-wheels/public/simple/\n",
            "Requirement already satisfied: tensorflow in /usr/local/lib/python3.10/dist-packages (2.12.0)\n",
            "Requirement already satisfied: absl-py>=1.0.0 in /usr/local/lib/python3.10/dist-packages (from tensorflow) (1.4.0)\n",
            "Requirement already satisfied: astunparse>=1.6.0 in /usr/local/lib/python3.10/dist-packages (from tensorflow) (1.6.3)\n",
            "Requirement already satisfied: flatbuffers>=2.0 in /usr/local/lib/python3.10/dist-packages (from tensorflow) (23.3.3)\n",
            "Requirement already satisfied: gast<=0.4.0,>=0.2.1 in /usr/local/lib/python3.10/dist-packages (from tensorflow) (0.4.0)\n",
            "Requirement already satisfied: google-pasta>=0.1.1 in /usr/local/lib/python3.10/dist-packages (from tensorflow) (0.2.0)\n",
            "Requirement already satisfied: grpcio<2.0,>=1.24.3 in /usr/local/lib/python3.10/dist-packages (from tensorflow) (1.54.0)\n",
            "Requirement already satisfied: h5py>=2.9.0 in /usr/local/lib/python3.10/dist-packages (from tensorflow) (3.8.0)\n",
            "Requirement already satisfied: jax>=0.3.15 in /usr/local/lib/python3.10/dist-packages (from tensorflow) (0.4.10)\n",
            "Requirement already satisfied: keras<2.13,>=2.12.0 in /usr/local/lib/python3.10/dist-packages (from tensorflow) (2.12.0)\n",
            "Requirement already satisfied: libclang>=13.0.0 in /usr/local/lib/python3.10/dist-packages (from tensorflow) (16.0.0)\n",
            "Requirement already satisfied: numpy<1.24,>=1.22 in /usr/local/lib/python3.10/dist-packages (from tensorflow) (1.22.4)\n",
            "Requirement already satisfied: opt-einsum>=2.3.2 in /usr/local/lib/python3.10/dist-packages (from tensorflow) (3.3.0)\n",
            "Requirement already satisfied: packaging in /usr/local/lib/python3.10/dist-packages (from tensorflow) (23.1)\n",
            "Requirement already satisfied: protobuf!=4.21.0,!=4.21.1,!=4.21.2,!=4.21.3,!=4.21.4,!=4.21.5,<5.0.0dev,>=3.20.3 in /usr/local/lib/python3.10/dist-packages (from tensorflow) (3.20.3)\n",
            "Requirement already satisfied: setuptools in /usr/local/lib/python3.10/dist-packages (from tensorflow) (67.7.2)\n",
            "Requirement already satisfied: six>=1.12.0 in /usr/local/lib/python3.10/dist-packages (from tensorflow) (1.16.0)\n",
            "Requirement already satisfied: tensorboard<2.13,>=2.12 in /usr/local/lib/python3.10/dist-packages (from tensorflow) (2.12.2)\n",
            "Requirement already satisfied: tensorflow-estimator<2.13,>=2.12.0 in /usr/local/lib/python3.10/dist-packages (from tensorflow) (2.12.0)\n",
            "Requirement already satisfied: termcolor>=1.1.0 in /usr/local/lib/python3.10/dist-packages (from tensorflow) (2.3.0)\n",
            "Requirement already satisfied: typing-extensions>=3.6.6 in /usr/local/lib/python3.10/dist-packages (from tensorflow) (4.5.0)\n",
            "Requirement already satisfied: wrapt<1.15,>=1.11.0 in /usr/local/lib/python3.10/dist-packages (from tensorflow) (1.14.1)\n",
            "Requirement already satisfied: tensorflow-io-gcs-filesystem>=0.23.1 in /usr/local/lib/python3.10/dist-packages (from tensorflow) (0.32.0)\n",
            "Requirement already satisfied: wheel<1.0,>=0.23.0 in /usr/local/lib/python3.10/dist-packages (from astunparse>=1.6.0->tensorflow) (0.40.0)\n",
            "Requirement already satisfied: ml-dtypes>=0.1.0 in /usr/local/lib/python3.10/dist-packages (from jax>=0.3.15->tensorflow) (0.1.0)\n",
            "Requirement already satisfied: scipy>=1.7 in /usr/local/lib/python3.10/dist-packages (from jax>=0.3.15->tensorflow) (1.10.1)\n",
            "Requirement already satisfied: google-auth<3,>=1.6.3 in /usr/local/lib/python3.10/dist-packages (from tensorboard<2.13,>=2.12->tensorflow) (2.17.3)\n",
            "Requirement already satisfied: google-auth-oauthlib<1.1,>=0.5 in /usr/local/lib/python3.10/dist-packages (from tensorboard<2.13,>=2.12->tensorflow) (1.0.0)\n",
            "Requirement already satisfied: markdown>=2.6.8 in /usr/local/lib/python3.10/dist-packages (from tensorboard<2.13,>=2.12->tensorflow) (3.4.3)\n",
            "Requirement already satisfied: requests<3,>=2.21.0 in /usr/local/lib/python3.10/dist-packages (from tensorboard<2.13,>=2.12->tensorflow) (2.27.1)\n",
            "Requirement already satisfied: tensorboard-data-server<0.8.0,>=0.7.0 in /usr/local/lib/python3.10/dist-packages (from tensorboard<2.13,>=2.12->tensorflow) (0.7.0)\n",
            "Requirement already satisfied: tensorboard-plugin-wit>=1.6.0 in /usr/local/lib/python3.10/dist-packages (from tensorboard<2.13,>=2.12->tensorflow) (1.8.1)\n",
            "Requirement already satisfied: werkzeug>=1.0.1 in /usr/local/lib/python3.10/dist-packages (from tensorboard<2.13,>=2.12->tensorflow) (2.3.0)\n",
            "Requirement already satisfied: cachetools<6.0,>=2.0.0 in /usr/local/lib/python3.10/dist-packages (from google-auth<3,>=1.6.3->tensorboard<2.13,>=2.12->tensorflow) (5.3.0)\n",
            "Requirement already satisfied: pyasn1-modules>=0.2.1 in /usr/local/lib/python3.10/dist-packages (from google-auth<3,>=1.6.3->tensorboard<2.13,>=2.12->tensorflow) (0.3.0)\n",
            "Requirement already satisfied: rsa<5,>=3.1.4 in /usr/local/lib/python3.10/dist-packages (from google-auth<3,>=1.6.3->tensorboard<2.13,>=2.12->tensorflow) (4.9)\n",
            "Requirement already satisfied: requests-oauthlib>=0.7.0 in /usr/local/lib/python3.10/dist-packages (from google-auth-oauthlib<1.1,>=0.5->tensorboard<2.13,>=2.12->tensorflow) (1.3.1)\n",
            "Requirement already satisfied: urllib3<1.27,>=1.21.1 in /usr/local/lib/python3.10/dist-packages (from requests<3,>=2.21.0->tensorboard<2.13,>=2.12->tensorflow) (1.26.15)\n",
            "Requirement already satisfied: certifi>=2017.4.17 in /usr/local/lib/python3.10/dist-packages (from requests<3,>=2.21.0->tensorboard<2.13,>=2.12->tensorflow) (2022.12.7)\n",
            "Requirement already satisfied: charset-normalizer~=2.0.0 in /usr/local/lib/python3.10/dist-packages (from requests<3,>=2.21.0->tensorboard<2.13,>=2.12->tensorflow) (2.0.12)\n",
            "Requirement already satisfied: idna<4,>=2.5 in /usr/local/lib/python3.10/dist-packages (from requests<3,>=2.21.0->tensorboard<2.13,>=2.12->tensorflow) (3.4)\n",
            "Requirement already satisfied: MarkupSafe>=2.1.1 in /usr/local/lib/python3.10/dist-packages (from werkzeug>=1.0.1->tensorboard<2.13,>=2.12->tensorflow) (2.1.2)\n",
            "Requirement already satisfied: pyasn1<0.6.0,>=0.4.6 in /usr/local/lib/python3.10/dist-packages (from pyasn1-modules>=0.2.1->google-auth<3,>=1.6.3->tensorboard<2.13,>=2.12->tensorflow) (0.5.0)\n",
            "Requirement already satisfied: oauthlib>=3.0.0 in /usr/local/lib/python3.10/dist-packages (from requests-oauthlib>=0.7.0->google-auth-oauthlib<1.1,>=0.5->tensorboard<2.13,>=2.12->tensorflow) (3.2.2)\n"
          ]
        }
      ],
      "source": [
        "!pip install keras-resnet==0.2.0\n",
        "!pip install tensorflow"
      ]
    },
    {
      "cell_type": "code",
      "execution_count": null,
      "metadata": {
        "id": "mHBmBuHxoD4C"
      },
      "outputs": [],
      "source": [
        "import tensorflow as tf\n",
        "import numpy as np\n",
        "import os\n",
        "import re\n",
        "from keras.models import Sequential, Model\n",
        "from keras.layers import Conv2D, MaxPooling2D, Flatten, Dropout, Dense, GlobalAveragePooling2D\n",
        "from keras.applications.vgg16 import VGG16\n",
        "from keras.applications.vgg19 import VGG19\n",
        "from tensorflow.keras.applications import ResNet50\n",
        "from keras.applications.vgg16 import preprocess_input\n",
        "from keras.applications.vgg19 import preprocess_input\n",
        "from keras.preprocessing.image import ImageDataGenerator\n",
        "from tensorflow.keras.applications.resnet50 import preprocess_input\n",
        "from sklearn.metrics import classification_report, confusion_matrix, accuracy_score"
      ]
    },
    {
      "cell_type": "markdown",
      "metadata": {
        "id": "LJxkTcyIoGeL"
      },
      "source": [
        "Mount Google Drive"
      ]
    },
    {
      "cell_type": "code",
      "execution_count": null,
      "metadata": {
        "colab": {
          "base_uri": "https://localhost:8080/"
        },
        "id": "C1dY59emoFu4",
        "outputId": "db1d014e-30f1-4704-cc5e-82c89f856791"
      },
      "outputs": [
        {
          "output_type": "stream",
          "name": "stdout",
          "text": [
            "Drive already mounted at /content/drive; to attempt to forcibly remount, call drive.mount(\"/content/drive\", force_remount=True).\n"
          ]
        }
      ],
      "source": [
        "from google.colab import drive\n",
        "drive.mount('/content/drive')"
      ]
    },
    {
      "cell_type": "markdown",
      "metadata": {
        "id": "92AVxsZMoKfC"
      },
      "source": [
        "Set the data directory path"
      ]
    },
    {
      "cell_type": "code",
      "execution_count": null,
      "metadata": {
        "id": "NWCBonOEoLbM"
      },
      "outputs": [],
      "source": [
        "data_dir = '/content/drive/MyDrive/Colab Notebooks/archive (1)/Dataset_BUSI_with_GT'"
      ]
    },
    {
      "cell_type": "markdown",
      "metadata": {
        "id": "ferH218koPXh"
      },
      "source": [
        "We define the batch size and image dimensions here"
      ]
    },
    {
      "cell_type": "code",
      "execution_count": null,
      "metadata": {
        "id": "q5PkvI3HoXjw"
      },
      "outputs": [],
      "source": [
        "batch_size = 32\n",
        "img_height = 224\n",
        "img_width = 224"
      ]
    },
    {
      "cell_type": "markdown",
      "metadata": {
        "id": "HHRVGIDtozf3"
      },
      "source": [
        "Since we are working with images from three differ classes/directories, we will use an Image data generator"
      ]
    },
    {
      "cell_type": "markdown",
      "metadata": {
        "id": "Ej4mG8h-S1Sz"
      },
      "source": [
        "# Don't want the masked images"
      ]
    },
    {
      "cell_type": "code",
      "execution_count": null,
      "metadata": {
        "id": "Dboc4FfPS20r"
      },
      "outputs": [],
      "source": [
        "def is_not_mask_file(filename):\n",
        "    return not re.search(r\"_mask\\.png$\", filename)"
      ]
    },
    {
      "cell_type": "code",
      "execution_count": null,
      "metadata": {
        "colab": {
          "base_uri": "https://localhost:8080/"
        },
        "id": "lyNCrRXZpqlh",
        "outputId": "3c0df4b9-5942-4d9a-ada0-1e867fc2716c"
      },
      "outputs": [
        {
          "output_type": "stream",
          "name": "stdout",
          "text": [
            "Found 1263 images belonging to 3 classes.\n",
            "Found 315 images belonging to 3 classes.\n"
          ]
        }
      ],
      "source": [
        "train_data_gen = ImageDataGenerator(\n",
        "    rescale=1./255,\n",
        "    rotation_range=10,\n",
        "    zoom_range=0.1,\n",
        "    horizontal_flip=True,\n",
        "    validation_split=0.2\n",
        ")\n",
        "\n",
        "val_data_gen = ImageDataGenerator(rescale=1./255, validation_split=0.2)\n",
        "\n",
        "train_data = train_data_gen.flow_from_directory(\n",
        "    data_dir,\n",
        "    target_size=(img_height, img_width),\n",
        "    batch_size=batch_size,\n",
        "    class_mode='categorical',\n",
        "    shuffle=True,\n",
        "    subset='training',\n",
        ")\n",
        "\n",
        "val_data = val_data_gen.flow_from_directory(\n",
        "    data_dir,\n",
        "    target_size=(img_height, img_width),\n",
        "    batch_size=batch_size,\n",
        "    class_mode='categorical',\n",
        "    shuffle=False,\n",
        "    subset='validation',\n",
        ")\n",
        "\n",
        "# Filter out mask images from train_data\n",
        "train_data.filenames = [filename for filename in train_data.filenames if is_not_mask_file(filename)]\n",
        "train_data.samples = len(train_data.filenames)\n",
        "\n",
        "# Filter out mask images from val_data\n",
        "val_data.filenames = [filename for filename in val_data.filenames if is_not_mask_file(filename)]\n",
        "val_data.samples = len(val_data.filenames)"
      ]
    },
    {
      "cell_type": "markdown",
      "metadata": {
        "id": "9kx_l7y-pCtv"
      },
      "source": [
        "# MODEL 1: CNN"
      ]
    },
    {
      "cell_type": "code",
      "execution_count": null,
      "metadata": {
        "colab": {
          "base_uri": "https://localhost:8080/"
        },
        "id": "S5xPa2UJpEs4",
        "outputId": "5ed6edb2-c176-4823-c7b0-4f271153b179"
      },
      "outputs": [
        {
          "output_type": "stream",
          "name": "stdout",
          "text": [
            "Epoch 1/10\n",
            "40/40 [==============================] - 227s 5s/step - loss: 0.8951 - accuracy: 0.5851 - val_loss: 0.7717 - val_accuracy: 0.7048\n",
            "Epoch 2/10\n",
            "40/40 [==============================] - 25s 616ms/step - loss: 0.7023 - accuracy: 0.6746 - val_loss: 0.6929 - val_accuracy: 0.7079\n",
            "Epoch 3/10\n",
            "40/40 [==============================] - 24s 600ms/step - loss: 0.6523 - accuracy: 0.7039 - val_loss: 0.6706 - val_accuracy: 0.7397\n",
            "Epoch 4/10\n",
            "40/40 [==============================] - 24s 596ms/step - loss: 0.6210 - accuracy: 0.7300 - val_loss: 0.6968 - val_accuracy: 0.7079\n",
            "Epoch 5/10\n",
            "40/40 [==============================] - 24s 594ms/step - loss: 0.5638 - accuracy: 0.7451 - val_loss: 0.7177 - val_accuracy: 0.7238\n",
            "Epoch 6/10\n",
            "40/40 [==============================] - 24s 599ms/step - loss: 0.5283 - accuracy: 0.7775 - val_loss: 0.7049 - val_accuracy: 0.7048\n",
            "Epoch 7/10\n",
            "40/40 [==============================] - 26s 650ms/step - loss: 0.5039 - accuracy: 0.7783 - val_loss: 0.7119 - val_accuracy: 0.7460\n",
            "Epoch 8/10\n",
            "40/40 [==============================] - 27s 679ms/step - loss: 0.4689 - accuracy: 0.8013 - val_loss: 0.6796 - val_accuracy: 0.7651\n",
            "Epoch 9/10\n",
            "40/40 [==============================] - 24s 589ms/step - loss: 0.4720 - accuracy: 0.7957 - val_loss: 0.6362 - val_accuracy: 0.7524\n",
            "Epoch 10/10\n",
            "40/40 [==============================] - 24s 594ms/step - loss: 0.4708 - accuracy: 0.8036 - val_loss: 0.7793 - val_accuracy: 0.7556\n",
            "10/10 [==============================] - 2s 205ms/step - loss: 0.7793 - accuracy: 0.7556\n",
            "Accuracy: 0.7555555701255798\n",
            "10/10 [==============================] - 2s 205ms/step\n",
            "              precision    recall  f1-score   support\n",
            "\n",
            "      benign       0.76      0.89      0.82       178\n",
            "   malignant       0.69      0.60      0.64        84\n",
            "      normal       0.88      0.57      0.69        53\n",
            "\n",
            "    accuracy                           0.76       315\n",
            "   macro avg       0.78      0.68      0.72       315\n",
            "weighted avg       0.76      0.76      0.75       315\n",
            "\n",
            "Confusion matrix:\n",
            "[[158  18   2]\n",
            " [ 32  50   2]\n",
            " [ 19   4  30]]\n"
          ]
        }
      ],
      "source": [
        "# Build model\n",
        "classifier = Sequential()\n",
        "classifier.add(Conv2D(filters=16, kernel_size=3, activation='relu', padding='same', input_shape=(img_height, img_width, 3)))\n",
        "classifier.add(MaxPooling2D())\n",
        "classifier.add(Conv2D(filters=32, kernel_size=3, activation='relu', padding='same'))\n",
        "classifier.add(MaxPooling2D())\n",
        "classifier.add(Conv2D(filters=64, kernel_size=3, activation='relu', padding='same'))\n",
        "classifier.add(MaxPooling2D())\n",
        "classifier.add(Dropout(0.5))\n",
        "classifier.add(Flatten())\n",
        "classifier.add(Dense(units=128, activation='relu'))\n",
        "classifier.add(Dense(units=train_data.num_classes, activation='softmax'))\n",
        "\n",
        "# Compile/train our model\n",
        "classifier.compile(optimizer='Adam', loss='categorical_crossentropy', metrics=['accuracy'])\n",
        "classifier.fit(\n",
        "    train_data,\n",
        "    epochs=10,\n",
        "    validation_data=val_data\n",
        ")\n",
        "\n",
        "# evaluate model\n",
        "evaluation = classifier.evaluate(val_data)\n",
        "print(\"Accuracy: \" + str(evaluation[1]))\n",
        "\n",
        "# Generate predictions\n",
        "pred = classifier.predict(val_data)\n",
        "pred = np.argmax(pred, axis=-1)\n",
        "\n",
        "# Get true labels\n",
        "val_labels = val_data.classes\n",
        "\n",
        "# Class labels\n",
        "class_labels = list(val_data.class_indices.keys())\n",
        "\n",
        "# Generate classification report\n",
        "report = classification_report(val_labels, pred, target_names=class_labels)\n",
        "print(report)\n",
        "\n",
        "# Generate confusion matrix\n",
        "cm = confusion_matrix(val_labels, pred)\n",
        "print(\"Confusion matrix:\")\n",
        "print(cm)"
      ]
    },
    {
      "cell_type": "markdown",
      "metadata": {
        "id": "ndPaZPlg-YkZ"
      },
      "source": [
        "# MODEL 2: VGG 16"
      ]
    },
    {
      "cell_type": "code",
      "execution_count": null,
      "metadata": {
        "colab": {
          "base_uri": "https://localhost:8080/"
        },
        "id": "QW-C-Pq6MQ_B",
        "outputId": "5e8ed556-3e5a-4d65-df2e-dc40a1887d60"
      },
      "outputs": [
        {
          "output_type": "stream",
          "name": "stdout",
          "text": [
            "Downloading data from https://storage.googleapis.com/tensorflow/keras-applications/vgg16/vgg16_weights_tf_dim_ordering_tf_kernels_notop.h5\n",
            "58889256/58889256 [==============================] - 0s 0us/step\n",
            "Epoch 1/10\n",
            "40/40 [==============================] - 37s 773ms/step - loss: 0.8870 - accuracy: 0.5867 - val_loss: 0.8088 - val_accuracy: 0.6095\n",
            "Epoch 2/10\n",
            "40/40 [==============================] - 27s 671ms/step - loss: 0.6954 - accuracy: 0.7237 - val_loss: 0.6926 - val_accuracy: 0.7365\n",
            "Epoch 3/10\n",
            "40/40 [==============================] - 27s 663ms/step - loss: 0.5859 - accuracy: 0.7823 - val_loss: 0.6339 - val_accuracy: 0.7556\n",
            "Epoch 4/10\n",
            "40/40 [==============================] - 28s 701ms/step - loss: 0.5161 - accuracy: 0.8013 - val_loss: 0.6325 - val_accuracy: 0.7365\n",
            "Epoch 5/10\n",
            "40/40 [==============================] - 27s 669ms/step - loss: 0.4713 - accuracy: 0.8290 - val_loss: 0.5790 - val_accuracy: 0.7683\n",
            "Epoch 6/10\n",
            "40/40 [==============================] - 26s 663ms/step - loss: 0.4488 - accuracy: 0.8211 - val_loss: 0.5701 - val_accuracy: 0.7778\n",
            "Epoch 7/10\n",
            "40/40 [==============================] - 26s 663ms/step - loss: 0.4268 - accuracy: 0.8369 - val_loss: 0.5731 - val_accuracy: 0.7778\n",
            "Epoch 8/10\n",
            "40/40 [==============================] - 24s 605ms/step - loss: 0.4010 - accuracy: 0.8464 - val_loss: 0.5328 - val_accuracy: 0.7778\n",
            "Epoch 9/10\n",
            "40/40 [==============================] - 24s 597ms/step - loss: 0.4063 - accuracy: 0.8298 - val_loss: 0.5391 - val_accuracy: 0.7873\n",
            "Epoch 10/10\n",
            "40/40 [==============================] - 26s 658ms/step - loss: 0.4079 - accuracy: 0.8321 - val_loss: 0.5082 - val_accuracy: 0.7778\n",
            "10/10 [==============================] - 2s 234ms/step - loss: 0.5082 - accuracy: 0.7778\n",
            "Validation Loss: 0.5081862807273865\n",
            "Validation Accuracy: 0.7777777910232544\n"
          ]
        }
      ],
      "source": [
        "# Load pre-trained VGG16 model\n",
        "base_model = VGG16(weights='imagenet', include_top=False, input_shape=(img_height, img_width, 3))\n",
        "\n",
        "# Freeze the pre-trained layers\n",
        "for layer in base_model.layers:\n",
        "    layer.trainable = False\n",
        "\n",
        "# Add custom classification layers on top of VGG16\n",
        "x = base_model.output\n",
        "x = GlobalAveragePooling2D()(x)\n",
        "x = Dense(128, activation='relu')(x)\n",
        "predictions = Dense(train_data.num_classes, activation='softmax')(x)\n",
        "\n",
        "# Create the model\n",
        "model_vgg16 = Model(inputs=base_model.input, outputs=predictions)\n",
        "\n",
        "# Compile the model\n",
        "model_vgg16.compile(optimizer='Adam', loss='categorical_crossentropy', metrics=['accuracy'])\n",
        "\n",
        "# Train the model\n",
        "epochs = 10\n",
        "history = model_vgg16.fit(train_data, epochs=epochs, validation_data=val_data)\n",
        "\n",
        "# Evaluate the model\n",
        "val_loss, val_accuracy = model_vgg16.evaluate(val_data)\n",
        "print('Validation Loss:', val_loss)\n",
        "print('Validation Accuracy:', val_accuracy)"
      ]
    },
    {
      "cell_type": "markdown",
      "metadata": {
        "id": "jYlrTTTJ-f0j"
      },
      "source": [
        "# MODEL 3: VGG 19"
      ]
    },
    {
      "cell_type": "code",
      "execution_count": null,
      "metadata": {
        "colab": {
          "base_uri": "https://localhost:8080/"
        },
        "id": "x0Io-oDcPn2t",
        "outputId": "7de55152-7fbb-4209-c7db-83c6a9f7834d"
      },
      "outputs": [
        {
          "output_type": "stream",
          "name": "stdout",
          "text": [
            "Downloading data from https://storage.googleapis.com/tensorflow/keras-applications/vgg19/vgg19_weights_tf_dim_ordering_tf_kernels_notop.h5\n",
            "80134624/80134624 [==============================] - 1s 0us/step\n",
            "Epoch 1/10\n",
            "40/40 [==============================] - 27s 607ms/step - loss: 0.8529 - accuracy: 0.6049 - val_loss: 0.7566 - val_accuracy: 0.7365\n",
            "Epoch 2/10\n",
            "40/40 [==============================] - 25s 615ms/step - loss: 0.6573 - accuracy: 0.7522 - val_loss: 0.6602 - val_accuracy: 0.7429\n",
            "Epoch 3/10\n",
            "40/40 [==============================] - 24s 603ms/step - loss: 0.5582 - accuracy: 0.7941 - val_loss: 0.5999 - val_accuracy: 0.7714\n",
            "Epoch 4/10\n",
            "40/40 [==============================] - 25s 629ms/step - loss: 0.5134 - accuracy: 0.8076 - val_loss: 0.5567 - val_accuracy: 0.7810\n",
            "Epoch 5/10\n",
            "40/40 [==============================] - 25s 630ms/step - loss: 0.4699 - accuracy: 0.8282 - val_loss: 0.5402 - val_accuracy: 0.7873\n",
            "Epoch 6/10\n",
            "40/40 [==============================] - 27s 669ms/step - loss: 0.4492 - accuracy: 0.8179 - val_loss: 0.5193 - val_accuracy: 0.7937\n",
            "Epoch 7/10\n",
            "40/40 [==============================] - 24s 611ms/step - loss: 0.4232 - accuracy: 0.8385 - val_loss: 0.5270 - val_accuracy: 0.7778\n",
            "Epoch 8/10\n",
            "40/40 [==============================] - 25s 626ms/step - loss: 0.4134 - accuracy: 0.8385 - val_loss: 0.5085 - val_accuracy: 0.7937\n",
            "Epoch 9/10\n",
            "40/40 [==============================] - 27s 679ms/step - loss: 0.4007 - accuracy: 0.8393 - val_loss: 0.5044 - val_accuracy: 0.7937\n",
            "Epoch 10/10\n",
            "40/40 [==============================] - 27s 672ms/step - loss: 0.3791 - accuracy: 0.8472 - val_loss: 0.5020 - val_accuracy: 0.7968\n",
            "10/10 [==============================] - 2s 227ms/step - loss: 0.5020 - accuracy: 0.7968\n",
            "Validation Loss: 0.502021312713623\n",
            "Validation Accuracy: 0.7968254089355469\n"
          ]
        }
      ],
      "source": [
        "# Load pre-trained VGG19 model\n",
        "base_model = VGG19(weights='imagenet', include_top=False, input_shape=(img_height, img_width, 3))\n",
        "\n",
        "# Freeze the pre-trained layers\n",
        "for layer in base_model.layers:\n",
        "    layer.trainable = False\n",
        "\n",
        "# Add custom classification layers on top of VGG19\n",
        "x = base_model.output\n",
        "x = GlobalAveragePooling2D()(x)\n",
        "x = Dense(128, activation='relu')(x)\n",
        "predictions = Dense(train_data.num_classes, activation='softmax')(x)\n",
        "\n",
        "# Create the model\n",
        "model_vgg19 = Model(inputs=base_model.input, outputs=predictions)\n",
        "\n",
        "# Compile the model\n",
        "model_vgg19.compile(optimizer='Adam', loss='categorical_crossentropy', metrics=['accuracy'])\n",
        "\n",
        "# Train the model\n",
        "epochs = 10\n",
        "history = model_vgg19.fit(train_data, epochs=epochs, validation_data=val_data)\n",
        "\n",
        "# Evaluate the model\n",
        "val_loss, val_accuracy = model_vgg19.evaluate(val_data)\n",
        "print('Validation Loss:', val_loss)\n",
        "print('Validation Accuracy:', val_accuracy)"
      ]
    },
    {
      "cell_type": "markdown",
      "metadata": {
        "id": "hSR5jaaF-ilK"
      },
      "source": [
        "# MODEL 4: RESNET-50 MODEL"
      ]
    },
    {
      "cell_type": "code",
      "execution_count": null,
      "metadata": {
        "colab": {
          "base_uri": "https://localhost:8080/"
        },
        "id": "uDbrWa8EXCv-",
        "outputId": "b13cc125-7b49-47c7-afda-47fb0607843f"
      },
      "outputs": [
        {
          "output_type": "stream",
          "name": "stdout",
          "text": [
            "Downloading data from https://storage.googleapis.com/tensorflow/keras-applications/resnet/resnet50_weights_tf_dim_ordering_tf_kernels_notop.h5\n",
            "94765736/94765736 [==============================] - 1s 0us/step\n",
            "Epoch 1/10\n",
            "40/40 [==============================] - 33s 690ms/step - loss: 0.9282 - accuracy: 0.5740 - val_loss: 0.8449 - val_accuracy: 0.5873\n",
            "Epoch 2/10\n",
            "40/40 [==============================] - 24s 597ms/step - loss: 0.8237 - accuracy: 0.6390 - val_loss: 0.7947 - val_accuracy: 0.6222\n",
            "Epoch 3/10\n",
            "40/40 [==============================] - 26s 663ms/step - loss: 0.7600 - accuracy: 0.6690 - val_loss: 0.8048 - val_accuracy: 0.6190\n",
            "Epoch 4/10\n",
            "40/40 [==============================] - 24s 613ms/step - loss: 0.7367 - accuracy: 0.6920 - val_loss: 0.7240 - val_accuracy: 0.7270\n",
            "Epoch 5/10\n",
            "40/40 [==============================] - 24s 592ms/step - loss: 0.6987 - accuracy: 0.7102 - val_loss: 0.7996 - val_accuracy: 0.6317\n",
            "Epoch 6/10\n",
            "40/40 [==============================] - 24s 602ms/step - loss: 0.6887 - accuracy: 0.7047 - val_loss: 0.7327 - val_accuracy: 0.6762\n",
            "Epoch 7/10\n",
            "40/40 [==============================] - 25s 637ms/step - loss: 0.6903 - accuracy: 0.6936 - val_loss: 0.7192 - val_accuracy: 0.7492\n",
            "Epoch 8/10\n",
            "40/40 [==============================] - 26s 644ms/step - loss: 0.6801 - accuracy: 0.7070 - val_loss: 0.6955 - val_accuracy: 0.6857\n",
            "Epoch 9/10\n",
            "40/40 [==============================] - 26s 653ms/step - loss: 0.6372 - accuracy: 0.7371 - val_loss: 0.6864 - val_accuracy: 0.7079\n",
            "Epoch 10/10\n",
            "40/40 [==============================] - 27s 678ms/step - loss: 0.6319 - accuracy: 0.7458 - val_loss: 0.6959 - val_accuracy: 0.7460\n",
            "10/10 [==============================] - 3s 247ms/step - loss: 0.6959 - accuracy: 0.7460\n",
            "Validation Loss: 0.6959317922592163\n",
            "Validation Accuracy: 0.7460317611694336\n"
          ]
        }
      ],
      "source": [
        "base_model = ResNet50(weights='imagenet', include_top=False, input_shape=(img_height, img_width, 3))\n",
        "\n",
        "# Freeze the pre-trained layers\n",
        "for layer in base_model.layers:\n",
        "    layer.trainable = False\n",
        "\n",
        "# Add custom classification layers on top of ResNet50\n",
        "x = base_model.output\n",
        "x = GlobalAveragePooling2D()(x)\n",
        "x = Dense(128, activation='relu')(x)\n",
        "predictions = Dense(train_data.num_classes, activation='softmax')(x)\n",
        "\n",
        "# Create the model\n",
        "model_resnet = Model(inputs=base_model.input, outputs=predictions)\n",
        "\n",
        "# Compile the model\n",
        "model_resnet.compile(optimizer='Adam', loss='categorical_crossentropy', metrics=['accuracy'])\n",
        "\n",
        "# Train the model\n",
        "epochs = 10\n",
        "history = model_resnet.fit(train_data, epochs=epochs, validation_data=val_data)\n",
        "\n",
        "# Evaluate the model\n",
        "val_loss, val_accuracy = model_resnet.evaluate(val_data)\n",
        "print('Validation Loss:', val_loss)\n",
        "print('Validation Accuracy:', val_accuracy)"
      ]
    },
    {
      "cell_type": "markdown",
      "metadata": {
        "id": "6q2b7CzTrGn6"
      },
      "source": [
        "# Creating a confusion matrix"
      ]
    },
    {
      "cell_type": "code",
      "execution_count": null,
      "metadata": {
        "colab": {
          "base_uri": "https://localhost:8080/",
          "height": 270
        },
        "id": "vNb02vVyrKdH",
        "outputId": "87de9959-519d-4c17-9e15-64c6e0a14581"
      },
      "outputs": [
        {
          "output_type": "stream",
          "name": "stdout",
          "text": [
            "10/10 [==============================] - 2s 223ms/step\n"
          ]
        },
        {
          "output_type": "error",
          "ename": "ValueError",
          "evalue": "ignored",
          "traceback": [
            "\u001b[0;31m---------------------------------------------------------------------------\u001b[0m",
            "\u001b[0;31mValueError\u001b[0m                                Traceback (most recent call last)",
            "\u001b[0;32m<ipython-input-26-d8b083f3c381>\u001b[0m in \u001b[0;36m<cell line: 5>\u001b[0;34m()\u001b[0m\n\u001b[1;32m      3\u001b[0m \u001b[0mpred\u001b[0m \u001b[0;34m=\u001b[0m \u001b[0mclassifier\u001b[0m\u001b[0;34m.\u001b[0m\u001b[0mpredict\u001b[0m\u001b[0;34m(\u001b[0m\u001b[0mval_data\u001b[0m\u001b[0;34m)\u001b[0m\u001b[0;34m\u001b[0m\u001b[0;34m\u001b[0m\u001b[0m\n\u001b[1;32m      4\u001b[0m \u001b[0mpred\u001b[0m \u001b[0;34m=\u001b[0m \u001b[0mnp\u001b[0m\u001b[0;34m.\u001b[0m\u001b[0margmax\u001b[0m\u001b[0;34m(\u001b[0m\u001b[0mpred\u001b[0m\u001b[0;34m,\u001b[0m \u001b[0maxis\u001b[0m\u001b[0;34m=\u001b[0m\u001b[0;34m-\u001b[0m\u001b[0;36m1\u001b[0m\u001b[0;34m)\u001b[0m\u001b[0;34m\u001b[0m\u001b[0;34m\u001b[0m\u001b[0m\n\u001b[0;32m----> 5\u001b[0;31m \u001b[0mtrue_labels\u001b[0m \u001b[0;34m=\u001b[0m \u001b[0mnp\u001b[0m\u001b[0;34m.\u001b[0m\u001b[0mconcatenate\u001b[0m\u001b[0;34m(\u001b[0m\u001b[0mval_labels\u001b[0m\u001b[0;34m)\u001b[0m\u001b[0;34m\u001b[0m\u001b[0;34m\u001b[0m\u001b[0m\n\u001b[0m\u001b[1;32m      6\u001b[0m \u001b[0mcm\u001b[0m \u001b[0;34m=\u001b[0m \u001b[0mconfusion_matrix\u001b[0m\u001b[0;34m(\u001b[0m\u001b[0mtrue_labels\u001b[0m\u001b[0;34m,\u001b[0m \u001b[0mpred\u001b[0m\u001b[0;34m)\u001b[0m\u001b[0;34m\u001b[0m\u001b[0;34m\u001b[0m\u001b[0m\n",
            "\u001b[0;32m/usr/local/lib/python3.10/dist-packages/numpy/core/overrides.py\u001b[0m in \u001b[0;36mconcatenate\u001b[0;34m(*args, **kwargs)\u001b[0m\n",
            "\u001b[0;31mValueError\u001b[0m: zero-dimensional arrays cannot be concatenated"
          ]
        }
      ],
      "source": [
        "from sklearn.metrics import confusion_matrix\n",
        "\n",
        "pred = classifier.predict(val_data)\n",
        "pred = np.argmax(pred, axis=-1)\n",
        "true_labels = np.concatenate(val_labels)\n",
        "cm = confusion_matrix(true_labels, pred)"
      ]
    },
    {
      "cell_type": "markdown",
      "metadata": {
        "id": "yPmLdyg0YhdX"
      },
      "source": [
        "# Saving the models"
      ]
    },
    {
      "cell_type": "code",
      "execution_count": null,
      "metadata": {
        "id": "GgKs3j8aYjln"
      },
      "outputs": [],
      "source": [
        "classifier.save(\"CNN.h5\")\n",
        "model_vgg16.save(\"VGG16.h5\")\n",
        "model_vgg19.save(\"VGG19.h5\")\n",
        "model_resnet.save(\"Resnet-50.h5\")"
      ]
    }
  ],
  "metadata": {
    "accelerator": "GPU",
    "colab": {
      "provenance": []
    },
    "kernelspec": {
      "display_name": "Python 3",
      "name": "python3"
    },
    "language_info": {
      "name": "python"
    }
  },
  "nbformat": 4,
  "nbformat_minor": 0
}